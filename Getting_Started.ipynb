{
  "nbformat": 4,
  "nbformat_minor": 0,
  "metadata": {
    "colab": {
      "provenance": [],
      "collapsed_sections": [],
      "authorship_tag": "ABX9TyMxk+5HkUlbZMLNdHZt6ltf",
      "include_colab_link": true
    },
    "kernelspec": {
      "name": "python3",
      "display_name": "Python 3"
    },
    "language_info": {
      "name": "python"
    }
  },
  "cells": [
    {
      "cell_type": "markdown",
      "metadata": {
        "id": "view-in-github",
        "colab_type": "text"
      },
      "source": [
        "<a href=\"https://colab.research.google.com/github/mendis11/my-first-time-in-python/blob/main/Getting_Started.ipynb\" target=\"_parent\"><img src=\"https://colab.research.google.com/assets/colab-badge.svg\" alt=\"Open In Colab\"/></a>"
      ]
    },
    {
      "cell_type": "code",
      "execution_count": null,
      "metadata": {
        "colab": {
          "base_uri": "https://localhost:8080/"
        },
        "id": "7LC_6__sJZtM",
        "outputId": "028a0f8d-b12e-4fbd-bfd7-1ce91a1a00cd"
      },
      "outputs": [
        {
          "output_type": "execute_result",
          "data": {
            "text/plain": [
              "3"
            ]
          },
          "metadata": {},
          "execution_count": 2
        }
      ],
      "source": [
        "6-3\n"
      ]
    },
    {
      "cell_type": "code",
      "source": [
        "x=5\n",
        "print(x)\n"
      ],
      "metadata": {
        "colab": {
          "base_uri": "https://localhost:8080/"
        },
        "id": "n3PlzRrHMi94",
        "outputId": "a87a1800-9e0d-44a9-ca46-86cb0a0e0f37"
      },
      "execution_count": null,
      "outputs": [
        {
          "output_type": "stream",
          "name": "stdout",
          "text": [
            "5\n"
          ]
        }
      ]
    },
    {
      "cell_type": "code",
      "source": [
        "print(\"Hello World\") #this is a string"
      ],
      "metadata": {
        "colab": {
          "base_uri": "https://localhost:8080/"
        },
        "id": "vOcGoiyHNzY5",
        "outputId": "d9f67e18-9226-4f13-ca34-2309fa95dc0d"
      },
      "execution_count": null,
      "outputs": [
        {
          "output_type": "stream",
          "name": "stdout",
          "text": [
            "Hello World\n"
          ]
        }
      ]
    },
    {
      "cell_type": "code",
      "source": [
        "x=4\n",
        "y=5\n",
        "xy=((x**2)+(y-2)+x)\n",
        "print(xy)"
      ],
      "metadata": {
        "colab": {
          "base_uri": "https://localhost:8080/"
        },
        "id": "H_-a8oW6OqLC",
        "outputId": "1988e774-728c-4fc7-8ad5-e9fa9719843e"
      },
      "execution_count": null,
      "outputs": [
        {
          "output_type": "stream",
          "name": "stdout",
          "text": [
            "23\n"
          ]
        }
      ]
    },
    {
      "cell_type": "code",
      "source": [
        "x=5\n",
        "y=4\n",
        "print(x*y)\n"
      ],
      "metadata": {
        "colab": {
          "base_uri": "https://localhost:8080/"
        },
        "id": "Vgexkm0WLccR",
        "outputId": "7c33fa13-557e-4709-8450-6545327bcf78"
      },
      "execution_count": null,
      "outputs": [
        {
          "output_type": "stream",
          "name": "stdout",
          "text": [
            "20\n"
          ]
        }
      ]
    },
    {
      "cell_type": "code",
      "source": [
        "type(True)"
      ],
      "metadata": {
        "colab": {
          "base_uri": "https://localhost:8080/"
        },
        "id": "d3bSGwHvYnlD",
        "outputId": "6f71cb5f-c85d-48c7-a9b2-8e46400a8859"
      },
      "execution_count": null,
      "outputs": [
        {
          "output_type": "execute_result",
          "data": {
            "text/plain": [
              "bool"
            ]
          },
          "metadata": {},
          "execution_count": 22
        }
      ]
    },
    {
      "cell_type": "code",
      "source": [
        "n=-3.56\n",
        "type(n)\n"
      ],
      "metadata": {
        "colab": {
          "base_uri": "https://localhost:8080/"
        },
        "id": "4f8sutcVYreX",
        "outputId": "2978b2e7-0b18-46d6-95ff-ea0b02d118ea"
      },
      "execution_count": null,
      "outputs": [
        {
          "output_type": "execute_result",
          "data": {
            "text/plain": [
              "float"
            ]
          },
          "metadata": {},
          "execution_count": 23
        }
      ]
    },
    {
      "cell_type": "code",
      "source": [
        "n=23\n",
        "type(n)"
      ],
      "metadata": {
        "colab": {
          "base_uri": "https://localhost:8080/"
        },
        "id": "ZxgZ14t_Y69X",
        "outputId": "adae0316-55b3-461f-8bf7-a6c3fe77ee73"
      },
      "execution_count": null,
      "outputs": [
        {
          "output_type": "execute_result",
          "data": {
            "text/plain": [
              "int"
            ]
          },
          "metadata": {},
          "execution_count": 24
        }
      ]
    },
    {
      "cell_type": "code",
      "source": [
        "fruits={'apple', 'banana', 'cherry', 'mango'}\n",
        "fruits.add('strawberry')\n",
        "print(fruits)\n",
        "type(fruits)"
      ],
      "metadata": {
        "colab": {
          "base_uri": "https://localhost:8080/"
        },
        "id": "NFkWo7_zd9xy",
        "outputId": "861214eb-247e-48d0-e28e-166b33cc9255"
      },
      "execution_count": null,
      "outputs": [
        {
          "output_type": "stream",
          "name": "stdout",
          "text": [
            "{'apple', 'cherry', 'banana', 'mango', 'strawberry'}\n"
          ]
        },
        {
          "output_type": "execute_result",
          "data": {
            "text/plain": [
              "set"
            ]
          },
          "metadata": {},
          "execution_count": 30
        }
      ]
    },
    {
      "cell_type": "code",
      "source": [
        "school={'student':'Mary', 'course':'SQL'}\n",
        "type(school)\n",
        "school.update({'Date':'August 2022'})\n",
        "print(school)\n"
      ],
      "metadata": {
        "colab": {
          "base_uri": "https://localhost:8080/"
        },
        "id": "mqqtUzj7fPM8",
        "outputId": "617a5cb6-c127-481b-bbf1-e5b93a8c967d"
      },
      "execution_count": null,
      "outputs": [
        {
          "output_type": "stream",
          "name": "stdout",
          "text": [
            "{'student': 'Mary', 'course': 'SQL', 'Date': 'August 2022'}\n"
          ]
        }
      ]
    },
    {
      "cell_type": "code",
      "source": [
        "3**2\n"
      ],
      "metadata": {
        "colab": {
          "base_uri": "https://localhost:8080/"
        },
        "id": "IntQW_DTQEQT",
        "outputId": "0c275a37-4473-46f1-e160-fb3117a8464e"
      },
      "execution_count": null,
      "outputs": [
        {
          "output_type": "execute_result",
          "data": {
            "text/plain": [
              "9"
            ]
          },
          "metadata": {},
          "execution_count": 20
        }
      ]
    },
    {
      "cell_type": "code",
      "source": [
        "3**9"
      ],
      "metadata": {
        "colab": {
          "base_uri": "https://localhost:8080/"
        },
        "id": "7MGLmfqbQiJr",
        "outputId": "3d25c759-a36c-46ac-fb54-b763622c5adb"
      },
      "execution_count": null,
      "outputs": [
        {
          "output_type": "execute_result",
          "data": {
            "text/plain": [
              "19683"
            ]
          },
          "metadata": {},
          "execution_count": 2
        }
      ]
    },
    {
      "cell_type": "code",
      "source": [
        "colours={'red', 'green', 'yellow', 'blue'}\n",
        "type(colours)"
      ],
      "metadata": {
        "colab": {
          "base_uri": "https://localhost:8080/"
        },
        "id": "gEQpv8tTSpEQ",
        "outputId": "9349d672-2ed6-4805-c61d-b46a6fd57078"
      },
      "execution_count": null,
      "outputs": [
        {
          "output_type": "execute_result",
          "data": {
            "text/plain": [
              "set"
            ]
          },
          "metadata": {},
          "execution_count": 32
        }
      ]
    },
    {
      "cell_type": "code",
      "source": [
        "fruits=('apple','mango','banana', 'cherry')\n",
        "type(fruits)\n",
        "\n",
        "\n"
      ],
      "metadata": {
        "colab": {
          "base_uri": "https://localhost:8080/"
        },
        "id": "nR_Ux9LFQj-7",
        "outputId": "29e89672-7009-4f0c-f21d-5106082374ba"
      },
      "execution_count": null,
      "outputs": [
        {
          "output_type": "execute_result",
          "data": {
            "text/plain": [
              "tuple"
            ]
          },
          "metadata": {},
          "execution_count": 51
        }
      ]
    },
    {
      "cell_type": "code",
      "source": [
        "num=423\n",
        "str(num)\n"
      ],
      "metadata": {
        "colab": {
          "base_uri": "https://localhost:8080/"
        },
        "id": "Ut0h1VjJllZ-",
        "outputId": "82274f65-b94e-4a27-93f0-55ebdb4cba05"
      },
      "execution_count": null,
      "outputs": [
        {
          "output_type": "execute_result",
          "data": {
            "text/plain": [
              "423"
            ]
          },
          "metadata": {},
          "execution_count": 57
        }
      ]
    },
    {
      "cell_type": "code",
      "source": [
        "num=42.45\n",
        "float(num)"
      ],
      "metadata": {
        "colab": {
          "base_uri": "https://localhost:8080/"
        },
        "id": "7BPWdkLpl-7t",
        "outputId": "d0c58fc3-275f-48d8-877c-be795a32fbef"
      },
      "execution_count": null,
      "outputs": [
        {
          "output_type": "execute_result",
          "data": {
            "text/plain": [
              "42.45"
            ]
          },
          "metadata": {},
          "execution_count": 60
        }
      ]
    },
    {
      "cell_type": "code",
      "source": [
        "country_name ='UK'\n",
        "city_name='London'\n",
        "print(country_name)\n",
        "len(city_name)"
      ],
      "metadata": {
        "colab": {
          "base_uri": "https://localhost:8080/"
        },
        "id": "otOdM8xqkwp-",
        "outputId": "b5558638-49dc-45df-d054-0de2fc2a286c"
      },
      "execution_count": null,
      "outputs": [
        {
          "output_type": "stream",
          "name": "stdout",
          "text": [
            "UK\n"
          ]
        },
        {
          "output_type": "execute_result",
          "data": {
            "text/plain": [
              "6"
            ]
          },
          "metadata": {},
          "execution_count": 49
        }
      ]
    },
    {
      "cell_type": "code",
      "source": [
        "'welcome' + 'home'"
      ],
      "metadata": {
        "colab": {
          "base_uri": "https://localhost:8080/",
          "height": 36
        },
        "id": "C8z5pvH1mfkN",
        "outputId": "4e9ab365-5e8a-478d-e8fa-8a70222246c7"
      },
      "execution_count": null,
      "outputs": [
        {
          "output_type": "execute_result",
          "data": {
            "text/plain": [
              "'welcomehome'"
            ],
            "application/vnd.google.colaboratory.intrinsic+json": {
              "type": "string"
            }
          },
          "metadata": {},
          "execution_count": 63
        }
      ]
    },
    {
      "cell_type": "code",
      "source": [
        "num='145'\n",
        "int(num)\n"
      ],
      "metadata": {
        "colab": {
          "base_uri": "https://localhost:8080/"
        },
        "id": "j9h8Tt7Fm3ze",
        "outputId": "cf2a0604-2821-477c-fec5-fae934525784"
      },
      "execution_count": null,
      "outputs": [
        {
          "output_type": "execute_result",
          "data": {
            "text/plain": [
              "145"
            ]
          },
          "metadata": {},
          "execution_count": 64
        }
      ]
    },
    {
      "cell_type": "code",
      "source": [
        "print('their \\'intention\\' 5 \\bth wasnt \\tgreat')"
      ],
      "metadata": {
        "colab": {
          "base_uri": "https://localhost:8080/"
        },
        "id": "fF3jSyavo3mQ",
        "outputId": "c9538926-790d-4ce6-f99d-c0cc7809a2e4"
      },
      "execution_count": null,
      "outputs": [
        {
          "output_type": "stream",
          "name": "stdout",
          "text": [
            "their 'intention' 5 \bth wasnt \tgreat\n"
          ]
        }
      ]
    },
    {
      "cell_type": "code",
      "source": [
        "print('Hello')"
      ],
      "metadata": {
        "colab": {
          "base_uri": "https://localhost:8080/"
        },
        "id": "7rm7t9gYtgLX",
        "outputId": "98ce6108-e8c5-4282-c9de-5c566920e996"
      },
      "execution_count": null,
      "outputs": [
        {
          "output_type": "stream",
          "name": "stdout",
          "text": [
            "Hello\n"
          ]
        }
      ]
    },
    {
      "cell_type": "code",
      "source": [
        "mystring1=\"Hello\"\n",
        "mystring1[1]\n",
        "mystring1[0:4]\n"
      ],
      "metadata": {
        "colab": {
          "base_uri": "https://localhost:8080/",
          "height": 36
        },
        "id": "MQRKak8atmxW",
        "outputId": "9d96b3a8-5e4a-40d6-e895-a5ff3d8274c1"
      },
      "execution_count": null,
      "outputs": [
        {
          "output_type": "execute_result",
          "data": {
            "text/plain": [
              "'Hell'"
            ],
            "application/vnd.google.colaboratory.intrinsic+json": {
              "type": "string"
            }
          },
          "metadata": {},
          "execution_count": 3
        }
      ]
    },
    {
      "cell_type": "code",
      "source": [
        "mystring=\"Amsterdam\"\n",
        "mystring[::-1]"
      ],
      "metadata": {
        "colab": {
          "base_uri": "https://localhost:8080/",
          "height": 36
        },
        "id": "liUHCXRqvKP2",
        "outputId": "f9548442-89b1-4235-95dc-26ecdc79c9fe"
      },
      "execution_count": null,
      "outputs": [
        {
          "output_type": "execute_result",
          "data": {
            "text/plain": [
              "'madretsmA'"
            ],
            "application/vnd.google.colaboratory.intrinsic+json": {
              "type": "string"
            }
          },
          "metadata": {},
          "execution_count": 5
        }
      ]
    },
    {
      "cell_type": "code",
      "source": [
        "str1='today is'\n",
        "str2='beautiful'\n",
        "print(str1+' '+str2)\n"
      ],
      "metadata": {
        "colab": {
          "base_uri": "https://localhost:8080/"
        },
        "id": "6zJPLJm8yuL_",
        "outputId": "bd387d2a-36d7-4479-b0e1-9d57e4104c4d"
      },
      "execution_count": null,
      "outputs": [
        {
          "output_type": "stream",
          "name": "stdout",
          "text": [
            "today is beautiful\n"
          ]
        }
      ]
    },
    {
      "cell_type": "code",
      "source": [
        "str4='write this 4 times\\n'\n",
        "print(str4*4)"
      ],
      "metadata": {
        "colab": {
          "base_uri": "https://localhost:8080/"
        },
        "id": "T1u4BScUzDsW",
        "outputId": "a7e0fab7-8bf5-4680-d6e1-8793d76ea27f"
      },
      "execution_count": null,
      "outputs": [
        {
          "output_type": "stream",
          "name": "stdout",
          "text": [
            "write this 4 times\n",
            "write this 4 times\n",
            "write this 4 times\n",
            "write this 4 times\n",
            "\n"
          ]
        }
      ]
    },
    {
      "cell_type": "code",
      "source": [
        "str5='hEy this is a string'\n",
        "str5.lower()\n",
        "\n"
      ],
      "metadata": {
        "colab": {
          "base_uri": "https://localhost:8080/",
          "height": 36
        },
        "id": "uRNVH_vuzrVW",
        "outputId": "2e4632f4-200b-46e5-972b-36ae37c22cd2"
      },
      "execution_count": null,
      "outputs": [
        {
          "output_type": "execute_result",
          "data": {
            "text/plain": [
              "'hey this is a string'"
            ],
            "application/vnd.google.colaboratory.intrinsic+json": {
              "type": "string"
            }
          },
          "metadata": {},
          "execution_count": 120
        }
      ]
    },
    {
      "cell_type": "code",
      "source": [
        "str5='hey this is a string'\n",
        "str5.find('n')"
      ],
      "metadata": {
        "colab": {
          "base_uri": "https://localhost:8080/"
        },
        "id": "UskRsCwP2H42",
        "outputId": "436a0dac-387f-403c-e7e1-b2bfb56f1249"
      },
      "execution_count": null,
      "outputs": [
        {
          "output_type": "execute_result",
          "data": {
            "text/plain": [
              "18"
            ]
          },
          "metadata": {},
          "execution_count": 6
        }
      ]
    },
    {
      "cell_type": "code",
      "source": [
        "str='errpr'\n",
        "str.replace('p','o')"
      ],
      "metadata": {
        "colab": {
          "base_uri": "https://localhost:8080/",
          "height": 36
        },
        "id": "wB7YutlL0mEd",
        "outputId": "f2e1f15a-2406-4e37-82c5-bce671d13b41"
      },
      "execution_count": null,
      "outputs": [
        {
          "output_type": "execute_result",
          "data": {
            "text/plain": [
              "'error'"
            ],
            "application/vnd.google.colaboratory.intrinsic+json": {
              "type": "string"
            }
          },
          "metadata": {},
          "execution_count": 122
        }
      ]
    },
    {
      "cell_type": "code",
      "source": [
        "str7='hey this is a title'\n",
        "str7.count('')\n"
      ],
      "metadata": {
        "colab": {
          "base_uri": "https://localhost:8080/"
        },
        "id": "Yzrca-bF35rH",
        "outputId": "cd71545c-e7e1-41dc-ff68-76f2559ecb7c"
      },
      "execution_count": null,
      "outputs": [
        {
          "output_type": "execute_result",
          "data": {
            "text/plain": [
              "20"
            ]
          },
          "metadata": {},
          "execution_count": 124
        }
      ]
    },
    {
      "cell_type": "code",
      "source": [
        "str8='i bought{} kg of {} that cost me {} pounds'\n",
        "product='apples'\n",
        "weight=10\n",
        "cost=20\n",
        "print(str8.format(weight,product,cost))"
      ],
      "metadata": {
        "colab": {
          "base_uri": "https://localhost:8080/"
        },
        "id": "HY1_nVaS5Dee",
        "outputId": "b3340dec-491f-482d-89a9-d758e7789a11"
      },
      "execution_count": null,
      "outputs": [
        {
          "output_type": "stream",
          "name": "stdout",
          "text": [
            "i bought10 kg of apples that cost me 20 pounds\n"
          ]
        }
      ]
    },
    {
      "cell_type": "code",
      "source": [],
      "metadata": {
        "id": "BJD_On3f50UY"
      },
      "execution_count": null,
      "outputs": []
    },
    {
      "cell_type": "code",
      "source": [
        "str8='i bought {1} kg of {0} that cost me {2} pounds'\n",
        "product='apples'\n",
        "weight=10\n",
        "cost=20\n",
        "print(str8.format(product,weight,cost))"
      ],
      "metadata": {
        "colab": {
          "base_uri": "https://localhost:8080/"
        },
        "outputId": "22c6ab89-575c-440d-b28d-d480e53e5af5",
        "id": "vWI9ne4E6HhK"
      },
      "execution_count": null,
      "outputs": [
        {
          "output_type": "stream",
          "name": "stdout",
          "text": [
            "i bought 10 kg of apples that cost me 20 pounds\n"
          ]
        }
      ]
    },
    {
      "cell_type": "code",
      "source": [],
      "metadata": {
        "id": "8jnVw2Zf6ljY"
      },
      "execution_count": null,
      "outputs": []
    },
    {
      "cell_type": "code",
      "source": [
        "str8='i bought {a} kg of {b} that cost me {c} pounds'\n",
        "product='apples'\n",
        "weight=10\n",
        "cost=20\n",
        "print(str8.format(b=product,a=weight,c=cost))"
      ],
      "metadata": {
        "colab": {
          "base_uri": "https://localhost:8080/"
        },
        "outputId": "79a41d41-51cf-4a04-daa1-83cf496f926a",
        "id": "OMcgPBdQ6mLn"
      },
      "execution_count": null,
      "outputs": [
        {
          "output_type": "stream",
          "name": "stdout",
          "text": [
            "i bought 10 kg of apples that cost me 20 pounds\n"
          ]
        }
      ]
    },
    {
      "cell_type": "code",
      "source": [
        "'i bought %d kg of %s that cost me %d'%(10, 'apple', 20)"
      ],
      "metadata": {
        "colab": {
          "base_uri": "https://localhost:8080/",
          "height": 36
        },
        "id": "_1a0CzOq7RPg",
        "outputId": "9873cde1-c15e-4a04-c6c7-b71e301e29fa"
      },
      "execution_count": null,
      "outputs": [
        {
          "output_type": "execute_result",
          "data": {
            "text/plain": [
              "'i bought 10 kg of apple that cost me 20'"
            ],
            "application/vnd.google.colaboratory.intrinsic+json": {
              "type": "string"
            }
          },
          "metadata": {},
          "execution_count": 130
        }
      ]
    },
    {
      "cell_type": "code",
      "source": [
        "5%3\n"
      ],
      "metadata": {
        "colab": {
          "base_uri": "https://localhost:8080/"
        },
        "id": "fHVa848I744I",
        "outputId": "b6cef185-88c9-4c9e-cb47-05fbdd428848"
      },
      "execution_count": null,
      "outputs": [
        {
          "output_type": "execute_result",
          "data": {
            "text/plain": [
              "2"
            ]
          },
          "metadata": {},
          "execution_count": 2
        }
      ]
    },
    {
      "cell_type": "code",
      "source": [
        "x=4\n",
        "y=5\n",
        "x>=y"
      ],
      "metadata": {
        "colab": {
          "base_uri": "https://localhost:8080/"
        },
        "id": "uIO1tsYp9Dol",
        "outputId": "d84b2eaa-fe65-4a60-e5aa-034d1aff4e6b"
      },
      "execution_count": null,
      "outputs": [
        {
          "output_type": "execute_result",
          "data": {
            "text/plain": [
              "False"
            ]
          },
          "metadata": {},
          "execution_count": 4
        }
      ]
    },
    {
      "cell_type": "code",
      "source": [
        "x=15\n",
        "if x%2==0:\n",
        "  print(\"this is an even number\")\n",
        "else:\n",
        "    print(\"this is an odd number\")\n"
      ],
      "metadata": {
        "colab": {
          "base_uri": "https://localhost:8080/"
        },
        "id": "2f6lFGnz_ldJ",
        "outputId": "d94ee09e-906e-4ea5-e8fc-8e68de2a08d0"
      },
      "execution_count": null,
      "outputs": [
        {
          "output_type": "stream",
          "name": "stdout",
          "text": [
            "this is an odd number\n"
          ]
        }
      ]
    },
    {
      "cell_type": "code",
      "source": [
        "a,b =11,15\n",
        "if a==b:\n",
        "  print(\"the 2 numbers are equal\")\n",
        "elif a>b:\n",
        "  print(\"the first number is greater than second\")\n",
        "else:\n",
        "  print(\"the first number is smaller than second\")"
      ],
      "metadata": {
        "colab": {
          "base_uri": "https://localhost:8080/"
        },
        "id": "ARJaEQRQBEcY",
        "outputId": "e095d3bf-9b13-4a83-fd03-b2556d8767c8"
      },
      "execution_count": null,
      "outputs": [
        {
          "output_type": "stream",
          "name": "stdout",
          "text": [
            "the first number is smaller than second\n"
          ]
        }
      ]
    },
    {
      "cell_type": "code",
      "source": [
        "a=0\n",
        "b=5\n",
        "if b<a:\n",
        "  print(\"the number is less than zero\")\n",
        "else:\n",
        "  print(\"the number is greater than zero\")"
      ],
      "metadata": {
        "colab": {
          "base_uri": "https://localhost:8080/"
        },
        "id": "-tKcCpe0CNVd",
        "outputId": "24a6b701-7cae-486a-a7e0-78cb2d7abf9c"
      },
      "execution_count": null,
      "outputs": [
        {
          "output_type": "stream",
          "name": "stdout",
          "text": [
            "the number is greater than zero\n"
          ]
        }
      ]
    },
    {
      "cell_type": "code",
      "source": [
        "x=3\n",
        "if x==0:\n",
        "  print(\"the value is equal to zero\")\n",
        "elif x>0:\n",
        "  print(\"the number is positive\")\n",
        "else:\n",
        "  print(\"the number is negative\")\n"
      ],
      "metadata": {
        "colab": {
          "base_uri": "https://localhost:8080/"
        },
        "id": "verFOAdUDKDy",
        "outputId": "0e8ddbfc-a34b-491c-8d81-b5141a46fd09"
      },
      "execution_count": null,
      "outputs": [
        {
          "output_type": "stream",
          "name": "stdout",
          "text": [
            "the number is positive\n"
          ]
        }
      ]
    },
    {
      "cell_type": "code",
      "source": [
        "for i in range(0,6):\n",
        "  print(\"the iteration is {}\".format(i))\n",
        "print(\"the end\")"
      ],
      "metadata": {
        "colab": {
          "base_uri": "https://localhost:8080/"
        },
        "id": "zWcmUeHEEEJH",
        "outputId": "ff08e373-bdd5-4cdf-e047-e37a2ae3aab0"
      },
      "execution_count": null,
      "outputs": [
        {
          "output_type": "stream",
          "name": "stdout",
          "text": [
            "the iteration is 0\n",
            "the iteration is 1\n",
            "the iteration is 2\n",
            "the iteration is 3\n",
            "the iteration is 4\n",
            "the iteration is 5\n",
            "the end\n"
          ]
        }
      ]
    },
    {
      "cell_type": "code",
      "source": [
        "a=0\n",
        "while a<6:\n",
        "  print(a)\n",
        "  a+=1\n",
        "print(\"the end!\")"
      ],
      "metadata": {
        "colab": {
          "base_uri": "https://localhost:8080/"
        },
        "id": "-h8RGspqGXjS",
        "outputId": "7c45f5a5-f70d-4e2b-b680-a3e082cdfc11"
      },
      "execution_count": null,
      "outputs": [
        {
          "output_type": "stream",
          "name": "stdout",
          "text": [
            "0\n",
            "1\n",
            "2\n",
            "3\n",
            "4\n",
            "5\n",
            "the end!\n"
          ]
        }
      ]
    },
    {
      "cell_type": "code",
      "source": [
        "targetv =5\n",
        "iterate =2\n",
        "while iterate <targetv:\n",
        "  print(\"the iteration is {},which is less than target value{}\".format(iterate, targetv))\n",
        "  iterate=iterate+1\n",
        "print(\"the end!\")\n"
      ],
      "metadata": {
        "colab": {
          "base_uri": "https://localhost:8080/"
        },
        "id": "tG_3LXCWIfub",
        "outputId": "bf2c9da6-27d6-46d4-fc25-6f437fb7ab2f"
      },
      "execution_count": null,
      "outputs": [
        {
          "output_type": "stream",
          "name": "stdout",
          "text": [
            "the iteration is 2,which is less than target value5\n",
            "the iteration is 3,which is less than target value5\n",
            "the iteration is 4,which is less than target value5\n",
            "the end!\n"
          ]
        }
      ]
    },
    {
      "cell_type": "code",
      "source": [
        "for i in range(1,6): #outer loop\n",
        "  for j in range(1,11): #inner loop # this is nested loop\n",
        "    print(\"{}*{}={}\".format(i,j,i*j))\n"
      ],
      "metadata": {
        "colab": {
          "base_uri": "https://localhost:8080/"
        },
        "id": "bM6HXG6bLq7R",
        "outputId": "00b12f17-2b15-4fc5-c844-8bc5ab0e7cf0"
      },
      "execution_count": null,
      "outputs": [
        {
          "output_type": "stream",
          "name": "stdout",
          "text": [
            "1*1=1\n",
            "1*2=2\n",
            "1*3=3\n",
            "1*4=4\n",
            "1*5=5\n",
            "1*6=6\n",
            "1*7=7\n",
            "1*8=8\n",
            "1*9=9\n",
            "1*10=10\n",
            "2*1=2\n",
            "2*2=4\n",
            "2*3=6\n",
            "2*4=8\n",
            "2*5=10\n",
            "2*6=12\n",
            "2*7=14\n",
            "2*8=16\n",
            "2*9=18\n",
            "2*10=20\n",
            "3*1=3\n",
            "3*2=6\n",
            "3*3=9\n",
            "3*4=12\n",
            "3*5=15\n",
            "3*6=18\n",
            "3*7=21\n",
            "3*8=24\n",
            "3*9=27\n",
            "3*10=30\n",
            "4*1=4\n",
            "4*2=8\n",
            "4*3=12\n",
            "4*4=16\n",
            "4*5=20\n",
            "4*6=24\n",
            "4*7=28\n",
            "4*8=32\n",
            "4*9=36\n",
            "4*10=40\n",
            "5*1=5\n",
            "5*2=10\n",
            "5*3=15\n",
            "5*4=20\n",
            "5*5=25\n",
            "5*6=30\n",
            "5*7=35\n",
            "5*8=40\n",
            "5*9=45\n",
            "5*10=50\n"
          ]
        }
      ]
    },
    {
      "cell_type": "code",
      "source": [
        "colours= [\"blue\", \"red\", \"yellow\"]\n",
        "cars= [\"BMW\", \"Mercedes\", \"Audi\"]\n",
        "for colour in colours:\n",
        "  for car in cars:\n",
        "    print(colour, car)\n",
        "    "
      ],
      "metadata": {
        "colab": {
          "base_uri": "https://localhost:8080/"
        },
        "id": "HOqLcoLWNNY6",
        "outputId": "7867286d-252d-4b41-a186-875b27d16c34"
      },
      "execution_count": null,
      "outputs": [
        {
          "output_type": "stream",
          "name": "stdout",
          "text": [
            "blue BMW\n",
            "blue Mercedes\n",
            "blue Audi\n",
            "red BMW\n",
            "red Mercedes\n",
            "red Audi\n",
            "yellow BMW\n",
            "yellow Mercedes\n",
            "yellow Audi\n"
          ]
        }
      ]
    },
    {
      "cell_type": "code",
      "source": [
        "targetv=5\n",
        "iterate=0\n",
        "while iterate<targetv:\n",
        "  print(\"Iteration number is {}, which is less than the target value {}\".format(iterate,targetv))\n",
        "  if iterate==3:\n",
        "    print(\"condition met!\")\n",
        "    break\n",
        "  iterate=iterate+1"
      ],
      "metadata": {
        "colab": {
          "base_uri": "https://localhost:8080/"
        },
        "id": "5XUZ-3T_PaAp",
        "outputId": "cc77d265-05e4-47e6-d6b3-93524305b7e8"
      },
      "execution_count": null,
      "outputs": [
        {
          "output_type": "stream",
          "name": "stdout",
          "text": [
            "Iteration number is 0, which is less than the target value 5\n",
            "Iteration number is 1, which is less than the target value 5\n",
            "Iteration number is 2, which is less than the target value 5\n",
            "Iteration number is 3, which is less than the target value 5\n",
            "condition met!\n"
          ]
        }
      ]
    },
    {
      "cell_type": "code",
      "source": [
        "targetv=5\n",
        "iterate=0\n",
        "while iterate<targetv:\n",
        "  iterate=iterate+1\n",
        "  if iterate==2:\n",
        "    continue\n",
        "  print(\"Iteration no is {}, which is less than the target value {}\".format(iterate,targetv))\n"
      ],
      "metadata": {
        "colab": {
          "base_uri": "https://localhost:8080/"
        },
        "id": "rx4so-lTU2D-",
        "outputId": "dd470946-e193-4be9-bc07-dd174532c452"
      },
      "execution_count": null,
      "outputs": [
        {
          "output_type": "stream",
          "name": "stdout",
          "text": [
            "Iteration no is 1, which is less than the target value 5\n",
            "Iteration no is 3, which is less than the target value 5\n",
            "Iteration no is 4, which is less than the target value 5\n",
            "Iteration no is 5, which is less than the target value 5\n"
          ]
        }
      ]
    },
    {
      "cell_type": "code",
      "source": [
        "name=[\"Mercy\", \"Pankaj\", \"Anis\", \"Chris\"]\n",
        "for name in name:\n",
        "  if name==\"Anis\":\n",
        "    continue\n",
        "  print(name)"
      ],
      "metadata": {
        "colab": {
          "base_uri": "https://localhost:8080/"
        },
        "id": "wDUdwCfGWTrh",
        "outputId": "0269f6a7-3ed4-47c7-ceca-2131ce7cb643"
      },
      "execution_count": null,
      "outputs": [
        {
          "output_type": "stream",
          "name": "stdout",
          "text": [
            "Mercy\n",
            "Pankaj\n",
            "Chris\n"
          ]
        }
      ]
    },
    {
      "cell_type": "code",
      "source": [
        "mylist=[\"Sam\",\"Michael\", \"John\"]\n",
        "mylist[0]=\"Pankaj\"\n",
        "print(mylist)\n"
      ],
      "metadata": {
        "colab": {
          "base_uri": "https://localhost:8080/"
        },
        "id": "x8CwhZJXZO97",
        "outputId": "1d3054f2-33d2-43a2-e11f-f74123040dd5"
      },
      "execution_count": null,
      "outputs": [
        {
          "output_type": "stream",
          "name": "stdout",
          "text": [
            "['Pankaj', 'Michael', 'John']\n"
          ]
        }
      ]
    },
    {
      "cell_type": "code",
      "source": [
        "mylist[0:2]\n"
      ],
      "metadata": {
        "colab": {
          "base_uri": "https://localhost:8080/"
        },
        "id": "Sm1WqpYPaGTB",
        "outputId": "ded03554-eecb-48ec-a8be-59ee8c4229db"
      },
      "execution_count": null,
      "outputs": [
        {
          "output_type": "execute_result",
          "data": {
            "text/plain": [
              "['Pankaj', 'Michael']"
            ]
          },
          "metadata": {},
          "execution_count": 82
        }
      ]
    },
    {
      "cell_type": "code",
      "source": [
        "mylist=[\"Sam\",\"Michael\", \"John\"]\n",
        "if \"Michael\" in mylist:\n",
        "  print(\"Yes the name is present\")"
      ],
      "metadata": {
        "colab": {
          "base_uri": "https://localhost:8080/"
        },
        "id": "JRVWjPWJaihm",
        "outputId": "36069ebc-0b92-4436-972f-31a7ced1f189"
      },
      "execution_count": null,
      "outputs": [
        {
          "output_type": "stream",
          "name": "stdout",
          "text": [
            "Yes the name is present\n"
          ]
        }
      ]
    },
    {
      "cell_type": "code",
      "source": [
        "mylist=[\"Sam\",\"Michael\", \"John\"]\n",
        "mylist.insert(0,\"Mercy\")\n",
        "print(mylist)"
      ],
      "metadata": {
        "colab": {
          "base_uri": "https://localhost:8080/"
        },
        "id": "2XMy-MpfbKqQ",
        "outputId": "2e326f12-df72-4f18-8c09-5f7fecdcbfbd"
      },
      "execution_count": null,
      "outputs": [
        {
          "output_type": "stream",
          "name": "stdout",
          "text": [
            "['Mercy', 'Sam', 'Michael', 'John']\n"
          ]
        }
      ]
    },
    {
      "cell_type": "code",
      "source": [
        "mylist.append('Claire')\n",
        "print(mylist)"
      ],
      "metadata": {
        "colab": {
          "base_uri": "https://localhost:8080/"
        },
        "id": "698jJlh0bqdN",
        "outputId": "163bfbc9-12bc-4a83-e0c4-91ae73dd0f63"
      },
      "execution_count": null,
      "outputs": [
        {
          "output_type": "stream",
          "name": "stdout",
          "text": [
            "['Mercy', 'Sam', 'Michael', 'John', 'Claire', 'Claire', 'Claire']\n"
          ]
        }
      ]
    },
    {
      "cell_type": "code",
      "source": [
        "mylist1= [\"Sam\",\"Michael\", \"John\"]\n",
        "mylist2= [\"Zara\", \"Alex\"]\n",
        "mylist1.extend(mylist2)\n",
        "print(mylist1)"
      ],
      "metadata": {
        "colab": {
          "base_uri": "https://localhost:8080/"
        },
        "id": "E_-SQfAJcJMd",
        "outputId": "df29c376-c58e-484e-b9b1-1026146f76b7"
      },
      "execution_count": null,
      "outputs": [
        {
          "output_type": "stream",
          "name": "stdout",
          "text": [
            "['Sam', 'Michael', 'John', 'Zara', 'Alex']\n"
          ]
        }
      ]
    },
    {
      "cell_type": "code",
      "source": [
        "mylist2.remove(\"Zara\")\n",
        "print(mylist2)"
      ],
      "metadata": {
        "colab": {
          "base_uri": "https://localhost:8080/"
        },
        "id": "wYV-Z3BvdJlo",
        "outputId": "681260bf-ef6c-404b-abd3-8878fa53ebb0"
      },
      "execution_count": null,
      "outputs": [
        {
          "output_type": "stream",
          "name": "stdout",
          "text": [
            "['Alex', 'Sam', 'Michael', 'John', 'Zara', 'Alex']\n"
          ]
        }
      ]
    },
    {
      "cell_type": "code",
      "source": [
        "mylist2.extend(mylist1)\n",
        "print(mylist2)\n"
      ],
      "metadata": {
        "colab": {
          "base_uri": "https://localhost:8080/"
        },
        "id": "mX4IHiFwck49",
        "outputId": "db501cc8-b5aa-4913-f860-2e345e52a0d2"
      },
      "execution_count": null,
      "outputs": [
        {
          "output_type": "stream",
          "name": "stdout",
          "text": [
            "['Zara', 'Alex', 'Sam', 'Michael', 'John', 'Zara', 'Alex']\n"
          ]
        }
      ]
    },
    {
      "cell_type": "code",
      "source": [
        "mylist3=[\"Sam\",\"Michael\", \"John\", \"Sam\"]\n",
        "for name in mylist3:\n",
        "  if name==\"Sam\":\n",
        "    mylist3.remove(\"Sam\")\n",
        "print(mylist3)\n"
      ],
      "metadata": {
        "colab": {
          "base_uri": "https://localhost:8080/"
        },
        "id": "pg2LoZ5Gf87q",
        "outputId": "d757e439-af29-4d37-a4c9-7cbb3c18bf0b"
      },
      "execution_count": null,
      "outputs": [
        {
          "output_type": "stream",
          "name": "stdout",
          "text": [
            "['Michael', 'John']\n"
          ]
        }
      ]
    },
    {
      "cell_type": "code",
      "source": [
        "mylist4=[\"mer\", \"ani\", \"pan\", \"Bob\", \"shob\", \"chr\", \"Bob\"]\n",
        "mylist4.reverse()\n",
        "print(mylist4)\n"
      ],
      "metadata": {
        "colab": {
          "base_uri": "https://localhost:8080/"
        },
        "id": "sfEfz8OLhEbs",
        "outputId": "3f34bc2a-d4c6-464b-8c73-a1866f655f79"
      },
      "execution_count": null,
      "outputs": [
        {
          "output_type": "stream",
          "name": "stdout",
          "text": [
            "['Bob', 'chr', 'shob', 'Bob', 'pan', 'ani', 'mer']\n"
          ]
        }
      ]
    },
    {
      "cell_type": "code",
      "source": [
        "while \"Bob\" in mylist4:\n",
        "  mylist4.remove(\"Bob\")\n",
        "  print(mylist4)\n",
        "  \n"
      ],
      "metadata": {
        "colab": {
          "base_uri": "https://localhost:8080/"
        },
        "id": "75HLx3OChc-L",
        "outputId": "188cc145-0033-4e0c-ebb7-bcf3d35f7ff9"
      },
      "execution_count": null,
      "outputs": [
        {
          "output_type": "stream",
          "name": "stdout",
          "text": [
            "['chr', 'shob', 'Bob', 'pan', 'ani', 'mer']\n",
            "['chr', 'shob', 'pan', 'ani', 'mer']\n"
          ]
        }
      ]
    },
    {
      "cell_type": "code",
      "source": [
        "myteam =[\"manu\", \"liv\", \"ars\", \"che\", \"spurs\"]\n",
        "if \"new\" in myteam:\n",
        "  print(\"Yes in my team\") \n",
        "else: \n",
        "  myteam.append(\"new\")\n",
        "  print(myteam)"
      ],
      "metadata": {
        "colab": {
          "base_uri": "https://localhost:8080/"
        },
        "id": "W8y3kDFQjM80",
        "outputId": "c9e07d5f-2edb-4421-f5bc-e2ae0a71d01e"
      },
      "execution_count": null,
      "outputs": [
        {
          "output_type": "stream",
          "name": "stdout",
          "text": [
            "['manu', 'liv', 'ars', 'che', 'spurs', 'new']\n"
          ]
        }
      ]
    },
    {
      "cell_type": "code",
      "source": [],
      "metadata": {
        "id": "L8NZSHZFmrT3"
      },
      "execution_count": null,
      "outputs": []
    },
    {
      "cell_type": "code",
      "source": [
        "mylist4=[\"mer\", \"ani\", \"pan\", \"Bob\", \"shob\", \"chr\", \"Bob\"]\n",
        "mylist5=[\"ad\", \"no\", \"ve\"]\n",
        "mylist6=mylist4 + mylist5\n",
        "print(mylist6)"
      ],
      "metadata": {
        "colab": {
          "base_uri": "https://localhost:8080/"
        },
        "id": "c8eF4qQQifqZ",
        "outputId": "5e13a9b5-5366-447e-a73b-6233cd437903"
      },
      "execution_count": null,
      "outputs": [
        {
          "output_type": "stream",
          "name": "stdout",
          "text": [
            "['mer', 'ani', 'pan', 'Bob', 'shob', 'chr', 'Bob', 'ad', 'no', 've']\n"
          ]
        }
      ]
    },
    {
      "cell_type": "code",
      "source": [
        "InstrumentList = [\"Trombone\", \"Piano\", \"Guitar\"]\n",
        "InstrumentGuess = input ('Please put an instrument: ')\n",
        "print (\"You Selected {}\".format(InstrumentGuess))\n",
        "if InstrumentGuess in InstrumentList:\n",
        "  print(\"{} is already part of the list!\".format(InstrumentGuess))\n",
        "else: \n",
        "  print(\"{} is not in the list so will be added\".format(InstrumentGuess))\n",
        "  InstrumentList.append(\"{}\".format(InstrumentGuess))\n",
        "print (InstrumentList)\n"
      ],
      "metadata": {
        "colab": {
          "base_uri": "https://localhost:8080/"
        },
        "id": "PKqbzEZnpBKK",
        "outputId": "1c0af7e3-efa3-4181-e278-fb77f8e922de"
      },
      "execution_count": null,
      "outputs": [
        {
          "output_type": "stream",
          "name": "stdout",
          "text": [
            "Please put an instrument: drums\n",
            "You Selected drums\n",
            "drums is not in the list so will be added\n",
            "['Trombone', 'Piano', 'Guitar', 'drums']\n"
          ]
        }
      ]
    },
    {
      "cell_type": "code",
      "source": [
        "tech1=[\"Meta\",\"Google\",\"Tesla\", \"Snap\"]\n",
        "if \"Pinterest\" in tech1:\n",
        "    print(tech1)\n",
        "else:\n",
        "    tech1.insert(4,\"Pinterest\")\n",
        "    print(tech1)\n"
      ],
      "metadata": {
        "colab": {
          "base_uri": "https://localhost:8080/"
        },
        "id": "lnHbZhoYpeGR",
        "outputId": "38fed77e-69f3-4573-dab2-16ace964218d"
      },
      "execution_count": null,
      "outputs": [
        {
          "output_type": "stream",
          "name": "stdout",
          "text": [
            "['Meta', 'Google', 'Tesla', 'Snap', 'Pinterest']\n"
          ]
        }
      ]
    },
    {
      "cell_type": "code",
      "source": [
        "media=[\"Meta\",\"Google\",\"Tesla\", \"Snap\"]\n",
        "element=input(\"Please input tech co name\")\n",
        "if element in media:\n",
        "  print(\"Tech company already exists\")\n",
        "else:\n",
        "  media.append(element)\n",
        "  print(\"The new list is:\", media)\n"
      ],
      "metadata": {
        "colab": {
          "base_uri": "https://localhost:8080/"
        },
        "id": "DsRM1dg7pike",
        "outputId": "82d87139-10e6-4b0b-87a2-00f5c2649a11"
      },
      "execution_count": null,
      "outputs": [
        {
          "output_type": "stream",
          "name": "stdout",
          "text": [
            "Please input tech co namegame\n",
            "The new list is: ['Meta', 'Google', 'Tesla', 'Snap', 'game']\n"
          ]
        }
      ]
    },
    {
      "cell_type": "code",
      "source": [
        "companies=[\"Meta\",\"Google\",\"Tesla\", \"Snap\"]\n",
        "for item in companies:\n",
        "  print(item)"
      ],
      "metadata": {
        "colab": {
          "base_uri": "https://localhost:8080/"
        },
        "id": "yFOdZrBhscgP",
        "outputId": "8425a8bc-91d3-4f5e-d14e-4e3a5af8b905"
      },
      "execution_count": null,
      "outputs": [
        {
          "output_type": "stream",
          "name": "stdout",
          "text": [
            "Meta\n",
            "Google\n",
            "Tesla\n",
            "Snap\n"
          ]
        }
      ]
    },
    {
      "cell_type": "code",
      "source": [
        "companies=[\"Meta\",\"Google\",\"Tesla\", \"Snap\"]\n",
        "for element in range(len(companies)):\n",
        "  print(element, companies[element])"
      ],
      "metadata": {
        "colab": {
          "base_uri": "https://localhost:8080/"
        },
        "id": "nB5LEOKRs8ZR",
        "outputId": "c0044d4f-89b1-41b2-ea7c-9dba6fbe18ee"
      },
      "execution_count": null,
      "outputs": [
        {
          "output_type": "stream",
          "name": "stdout",
          "text": [
            "0 Meta\n",
            "1 Google\n",
            "2 Tesla\n",
            "3 Snap\n"
          ]
        }
      ]
    },
    {
      "cell_type": "code",
      "source": [
        "a= [1, 2, 3, 4, 5, 6]\n",
        "c=[]\n",
        "for x in a:\n",
        "  c.append(x*2)\n",
        "print(c)"
      ],
      "metadata": {
        "colab": {
          "base_uri": "https://localhost:8080/"
        },
        "id": "9zNdYjlet0dp",
        "outputId": "c6470ecc-4b5e-4e2d-8392-968a012b240a"
      },
      "execution_count": null,
      "outputs": [
        {
          "output_type": "stream",
          "name": "stdout",
          "text": [
            "[2, 4, 6, 8, 10, 12]\n"
          ]
        }
      ]
    },
    {
      "cell_type": "code",
      "source": [
        "a= [1, 2, 3, 4, 5, 6]\n",
        "b =[x**2 for x in a]\n",
        "print(b)\n"
      ],
      "metadata": {
        "colab": {
          "base_uri": "https://localhost:8080/"
        },
        "id": "Ju5FiHEPulOX",
        "outputId": "332af3da-a2bb-4a9c-ad36-152feaa60d69"
      },
      "execution_count": null,
      "outputs": [
        {
          "output_type": "stream",
          "name": "stdout",
          "text": [
            "[1, 4, 9, 16, 25, 36]\n"
          ]
        }
      ]
    },
    {
      "cell_type": "code",
      "source": [
        "str=[letter.upper() for letter in \"Python\"]\n",
        "print(str)\n",
        "\n"
      ],
      "metadata": {
        "colab": {
          "base_uri": "https://localhost:8080/"
        },
        "id": "Jz2mClUtu_mC",
        "outputId": "fe551c38-6999-4b63-8ff9-cce806fb3004"
      },
      "execution_count": null,
      "outputs": [
        {
          "output_type": "stream",
          "name": "stdout",
          "text": [
            "['P', 'Y', 'T', 'H', 'O', 'N']\n"
          ]
        }
      ]
    },
    {
      "cell_type": "code",
      "source": [
        "mydict={\"employee\":\"Zara\", \"Salary\":5000}\n",
        "mydict[\"department\"]=\"Sales\"\n",
        "print(len(mydict))\n"
      ],
      "metadata": {
        "colab": {
          "base_uri": "https://localhost:8080/"
        },
        "id": "GpmWX0I1wrr3",
        "outputId": "40355783-1f68-4bc0-d404-93cc7c253ccd"
      },
      "execution_count": null,
      "outputs": [
        {
          "output_type": "stream",
          "name": "stdout",
          "text": [
            "3\n"
          ]
        }
      ]
    },
    {
      "cell_type": "code",
      "source": [
        "mydict={\"employee\":\"Zara\", \"Salary\":5000, \"department\":\"Sales\"}\n",
        "if \"department\" in mydict:\n",
        "  print(\"The Key exists\")"
      ],
      "metadata": {
        "colab": {
          "base_uri": "https://localhost:8080/"
        },
        "id": "FD9wccrLxVOy",
        "outputId": "e6a17012-67d2-4255-893b-543ed220b50c"
      },
      "execution_count": null,
      "outputs": [
        {
          "output_type": "stream",
          "name": "stdout",
          "text": [
            "The Key exists\n"
          ]
        }
      ]
    },
    {
      "cell_type": "code",
      "source": [
        "mydict={\"employee\":\"Zara\", \"Salary\":5000, \"department\":\"Sales\"}\n",
        "mydict.update({\"Salary\":7000, \"Grade\":3})\n",
        "print(mydict)"
      ],
      "metadata": {
        "colab": {
          "base_uri": "https://localhost:8080/"
        },
        "id": "haCuMfo5x2Dd",
        "outputId": "5b8d035f-afbb-42e4-f166-0bfa59df2a82"
      },
      "execution_count": null,
      "outputs": [
        {
          "output_type": "stream",
          "name": "stdout",
          "text": [
            "{'employee': 'Zara', 'Salary': 7000, 'department': 'Sales', 'Grade': 3}\n"
          ]
        }
      ]
    },
    {
      "cell_type": "code",
      "source": [
        "mydict={\"employee\":\"Zara\", \"Salary\":5000, \"department\":\"Sales\"}\n",
        "del mydict[\"Salary\"]\n",
        "print(mydict)"
      ],
      "metadata": {
        "colab": {
          "base_uri": "https://localhost:8080/"
        },
        "id": "bI8GSOxPybN4",
        "outputId": "83d5e0aa-c3fd-42f4-9aa6-62a94c602214"
      },
      "execution_count": null,
      "outputs": [
        {
          "output_type": "stream",
          "name": "stdout",
          "text": [
            "{'employee': 'Zara', 'department': 'Sales'}\n"
          ]
        }
      ]
    },
    {
      "cell_type": "code",
      "source": [
        "mytuples=(\"Audi\", \"Ford\", \"Citroen\", \"Skoda\")\n",
        "mylist9=list(mytuples)\n",
        "mylist9[2]=\"BMW\"\n",
        "mytuples=tuple(mylist9)\n",
        "print(mytuples)"
      ],
      "metadata": {
        "colab": {
          "base_uri": "https://localhost:8080/"
        },
        "id": "RIZ_F9Vi0Im8",
        "outputId": "2006584a-ac70-4f0d-8681-aaa2151debd9"
      },
      "execution_count": null,
      "outputs": [
        {
          "output_type": "stream",
          "name": "stdout",
          "text": [
            "('Audi', 'Ford', 'BMW', 'Skoda')\n"
          ]
        }
      ]
    },
    {
      "cell_type": "code",
      "source": [
        "myset={\"Apple\", \"Banana\"}\n",
        "print(len(myset))\n"
      ],
      "metadata": {
        "colab": {
          "base_uri": "https://localhost:8080/"
        },
        "id": "yAf-iSyY2FIr",
        "outputId": "69bb7fbf-82b3-4b23-abae-244eed42433d"
      },
      "execution_count": null,
      "outputs": [
        {
          "output_type": "stream",
          "name": "stdout",
          "text": [
            "2\n"
          ]
        }
      ]
    },
    {
      "cell_type": "code",
      "source": [
        "print(\"YES!\")\n"
      ],
      "metadata": {
        "colab": {
          "base_uri": "https://localhost:8080/"
        },
        "id": "oXM7_fq7YreB",
        "outputId": "5616b8f6-c955-4ccc-fbb5-73ef2fe48390"
      },
      "execution_count": 1,
      "outputs": [
        {
          "output_type": "stream",
          "name": "stdout",
          "text": [
            "YES!\n"
          ]
        }
      ]
    }
  ]
}